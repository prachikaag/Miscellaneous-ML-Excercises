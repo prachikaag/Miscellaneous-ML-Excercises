{
 "cells": [
  {
   "cell_type": "markdown",
   "metadata": {
    "id": "6YkS87WKY6bJ"
   },
   "source": [
    "# Lab:  Neural Networks for Music Classification - pa2191\n",
    "\n",
    "In addition to the concepts in the [MNIST neural network demo](./demo2_mnist_neural.ipynb), in this lab, you will learn to:\n",
    "* Load a file from a URL\n",
    "* Extract simple features from audio samples for machine learning tasks such as speech recognition and classification\n",
    "* Build a simple neural network for music classification using these features\n",
    "* Use a callback to store the loss and accuracy history in the training process\n",
    "* Optimize the learning rate of the neural network\n",
    "\n",
    "To illustrate the basic concepts, we will look at a relatively simple music classification problem.  Given a sample of music, we want to determine which instrument (e.g. trumpet, violin, piano) is playing.  This dataset was generously supplied by [Prof. Juan Bello](http://steinhardt.nyu.edu/faculty/Juan_Pablo_Bello) at NYU Stenihardt  and his former PhD student Eric Humphrey (now at Spotify).  They have a complete website dedicated to deep learning methods in music informatics:\n",
    "\n",
    "http://marl.smusic.nyu.edu/wordpress/projects/feature-learning-deep-architectures/deep-learning-python-tutorial/\n",
    "\n",
    "You can also check out Juan's <a href=\"http://www.nyu.edu/classes/bello/ACA.html\">course</a>.\n",
    "\n"
   ]
  },
  {
   "cell_type": "markdown",
   "metadata": {
    "id": "AeuI_FXFY6bL"
   },
   "source": [
    "## Loading Tensorflow\n",
    "\n",
    "Before starting this lab, you will need to install [Tensorflow](https://www.tensorflow.org/install/).  If you are using [Google colaboratory](https://colab.research.google.com), Tensorflow is already installed.  Run the following command to ensure Tensorflow is installed."
   ]
  },
  {
   "cell_type": "code",
   "execution_count": 1,
   "metadata": {
    "id": "wGJ9uRqpY6bM"
   },
   "outputs": [],
   "source": [
    "import tensorflow as tf"
   ]
  },
  {
   "cell_type": "markdown",
   "metadata": {
    "id": "K9RcfCXPY6bN"
   },
   "source": [
    "Then, load the other packages."
   ]
  },
  {
   "cell_type": "code",
   "execution_count": 2,
   "metadata": {
    "id": "Mp5P8aWzY6bO"
   },
   "outputs": [],
   "source": [
    "import numpy as np\n",
    "import matplotlib\n",
    "import matplotlib.pyplot as plt"
   ]
  },
  {
   "cell_type": "markdown",
   "metadata": {
    "id": "iTyO64JTY6bO"
   },
   "source": [
    "## Audio Feature Extraction with Librosa\n",
    "\n",
    "The key to audio classification is to extract the correct features. In addition to `keras`, we will need the `librosa` package.  The `librosa` package in python has a rich set of methods extracting the features of audio samples commonly used in machine learning tasks such as speech recognition and sound classification. \n",
    "\n",
    "Installation instructions and complete documentation for the package are given on the [librosa main page](https://librosa.github.io/librosa/).  On most systems, you should be able to simply use:\n",
    "\n",
    "    pip install librosa\n",
    "    \n",
    "For Unix, you may need to load some additional packages:\n",
    "\n",
    "    sudo apt-get install build-essential\n",
    "    sudo apt-get install libxext-dev python-qt4 qt4-dev-tools\n",
    "    pip install librosa\n",
    "    \n",
    "After you have installed the package, try to import it."
   ]
  },
  {
   "cell_type": "code",
   "execution_count": 3,
   "metadata": {
    "id": "KBmPr47aY6bO"
   },
   "outputs": [],
   "source": [
    "import librosa\n",
    "import librosa.display\n",
    "import librosa.feature"
   ]
  },
  {
   "cell_type": "markdown",
   "metadata": {
    "id": "bFXYDYeSY6bP"
   },
   "source": [
    "In this lab, we will use a set of music samples from the website:\n",
    "\n",
    "http://theremin.music.uiowa.edu\n",
    "\n",
    "This website has a great set of samples for audio processing.  Look on the web for how to use the `requests.get` and `file.write` commands to load the file at the URL provided into your working directory.\n",
    "\n",
    "You can play the audio sample by copying the file to your local machine and playing it on any media player.  If you listen to it you will hear a soprano saxaphone (with vibrato) playing four notes (C, C#, D, Eb)."
   ]
  },
  {
   "cell_type": "code",
   "execution_count": 4,
   "metadata": {
    "id": "vj2vxE36Y6bP"
   },
   "outputs": [],
   "source": [
    "import requests\n",
    "fn = \"SopSax.Vib.pp.C6Eb6.aiff\"\n",
    "url = \"http://theremin.music.uiowa.edu/sound files/MIS/Woodwinds/sopranosaxophone/\"+fn\n",
    "\n",
    "# TODO 1:  Load the file from url and save it in a file under the name fn\n",
    "\n",
    "req = requests.get(url)\n",
    "with open(fn, \"wb\") as file:\n",
    "  file.write(req.content)"
   ]
  },
  {
   "cell_type": "markdown",
   "metadata": {
    "id": "0pOWVK_xY6bP"
   },
   "source": [
    "Next, use `librosa` command `librosa.load` to read the audio file with filename `fn` and get the samples `y` and sample rate `sr`."
   ]
  },
  {
   "cell_type": "code",
   "execution_count": 5,
   "metadata": {
    "id": "vcau8aq_Y6bQ"
   },
   "outputs": [],
   "source": [
    "# TODO 2\n",
    "# y, sr = ...\n",
    "y, sr = librosa.load(fn)"
   ]
  },
  {
   "cell_type": "markdown",
   "metadata": {
    "id": "8e9OlwDKY6bQ"
   },
   "source": [
    "Extracting features from audio files is an entire subject on its own right.  A commonly used set of features are called the Mel Frequency Cepstral Coefficients (MFCCs).  These are derived from the so-called mel spectrogram which is something like a regular spectrogram, but the power and frequency are represented in log scale, which more naturally aligns with human perceptual processing.  You can run the code below to display the mel spectrogram from the audio sample.\n",
    "\n",
    "You can easily see the four notes played in the audio track.  You also see the 'harmonics' of each notes, which are other tones at integer multiples of the fundamental frequency of each note."
   ]
  },
  {
   "cell_type": "code",
   "execution_count": 6,
   "metadata": {
    "colab": {
     "base_uri": "https://localhost:8080/",
     "height": 297
    },
    "id": "JSVFE1F7Y6bQ",
    "outputId": "7bb95d99-4271-4a12-8e75-f43d46d59c46"
   },
   "outputs": [
    {
     "data": {
      "image/png": "[encoded data removed]",
      "text/plain": [
       "<Figure size 432x288 with 2 Axes>"
      ]
     },
     "metadata": {
      "needs_background": "light"
     },
     "output_type": "display_data"
    }
   ],
   "source": [
    "S = librosa.feature.melspectrogram(y=y, sr=sr, n_mels=128, fmax=8000)\n",
    "librosa.display.specshow(librosa.amplitude_to_db(S),\n",
    "                         y_axis='mel', fmax=8000, x_axis='time')\n",
    "plt.colorbar(format='%+2.0f dB')\n",
    "plt.title('Mel spectrogram')\n",
    "plt.tight_layout()"
   ]
  },
  {
   "cell_type": "markdown",
   "metadata": {
    "id": "EJAxKdAwY6bQ"
   },
   "source": [
    "## Downloading the Data\n",
    "\n",
    "Using the MFCC features described above, Eric Humphrey and Juan Bellow have created a complete data set that can used for instrument classification.  Essentially, they collected a number of data files from the website above.  For each audio file, the segmented the track into notes and then extracted 120 MFCCs for each note.  The goal is to recognize the instrument from the 120 MFCCs.  The process of feature extraction is quite involved.  So, we will just use their processed data provided at:\n",
    "\n",
    "https://github.com/marl/dl4mir-tutorial/blob/master/README.md\n",
    "\n",
    "Note the password.  Load the four files into some directory, say  `instrument_dataset`.  Then, load them with the commands."
   ]
  },
  {
   "cell_type": "code",
   "execution_count": 7,
   "metadata": {
    "colab": {
     "base_uri": "https://localhost:8080/"
    },
    "id": "SJeLIo64h-D1",
    "outputId": "52598b08-5ba4-4d0a-ad4b-75e3a9efaa35"
   },
   "outputs": [
    {
     "name": "stdout",
     "output_type": "stream",
     "text": [
      "Drive already mounted at /content/drive; to attempt to forcibly remount, call drive.mount(\"/content/drive\", force_remount=True).\n"
     ]
    }
   ],
   "source": [
    "from google.colab import drive \n",
    "drive.mount('/content/drive')"
   ]
  },
  {
   "cell_type": "code",
   "execution_count": 8,
   "metadata": {
    "id": "exbVaCx-Y6bR"
   },
   "outputs": [],
   "source": [
    "data_dir = '/content/drive/MyDrive/instrument_dataset/'\n",
    "Xtr = np.load(data_dir+'uiowa_train_data.npy')\n",
    "ytr = np.load(data_dir+'uiowa_train_labels.npy')\n",
    "Xts = np.load(data_dir+'uiowa_test_data.npy')\n",
    "yts = np.load(data_dir+'uiowa_test_labels.npy')"
   ]
  },
  {
   "cell_type": "markdown",
   "metadata": {
    "id": "x6K3ebk0Y6bR"
   },
   "source": [
    "Looking at the data files:\n",
    "* What are the number of training and test samples?\n",
    "* What is the number of features for each sample?\n",
    "* How many classes (i.e. instruments) are there per class?\n"
   ]
  },
  {
   "cell_type": "code",
   "execution_count": 9,
   "metadata": {
    "colab": {
     "base_uri": "https://localhost:8080/"
    },
    "id": "uQge9EtdY6bR",
    "outputId": "91fe0ebe-ae4d-40b4-baff-e8926e558b26"
   },
   "outputs": [
    {
     "name": "stdout",
     "output_type": "stream",
     "text": [
      "Number of training samples = 66247\n",
      "Number of test samples = 14904\n",
      "Number of features of each sample = 120\n",
      "Number of classes per class = 120\n"
     ]
    }
   ],
   "source": [
    "# TODO 3\n",
    "print('Number of training samples = {0:d}'.format(Xtr.shape[0]))\n",
    "print('Number of test samples = {0:d}'.format(Xts.shape[0]))\n",
    "print('Number of features of each sample = {0:d}'.format(Xtr.shape[1]))\n",
    "print('Number of classes per class = {0:d}'.format(Xts.shape[1]))"
   ]
  },
  {
   "cell_type": "markdown",
   "metadata": {
    "id": "orSC7eijY6bS"
   },
   "source": [
    "Before continuing, you must scale the training and test data, `Xtr` and `Xts`.  Compute the mean and std deviation of each feature in `Xtr` and create a new training data set, `Xtr_scale`, by subtracting the mean and dividing by the std deviation.  Also compute a scaled test data set, `Xts_scale` using the mean and std deviation learned from the training data set."
   ]
  },
  {
   "cell_type": "code",
   "execution_count": 10,
   "metadata": {
    "id": "3oIBrU5IY6bS"
   },
   "outputs": [],
   "source": [
    "# TODO 4: Scale the training and test matrices\n",
    "# Xtr_scale = ...\n",
    "# Xts_scale = ...\n",
    "xmean = np.mean(Xtr, axis =0)\n",
    "xstd = np.std(Xtr, axis=0)\n",
    "Xtr_scale = (Xtr - xmean[None,:])/xstd[None,:]\n",
    "Xts_scale = (Xts - xmean[None,:])/xstd[None,:]"
   ]
  },
  {
   "cell_type": "markdown",
   "metadata": {
    "collapsed": true,
    "id": "z1ScA4yWY6bS"
   },
   "source": [
    "## Building a Neural Network Classifier\n",
    "\n",
    "Following the example in [MNIST neural network demo](./mnist_neural.ipynb), clear the keras session.  Then, create a neural network `model` with:\n",
    "* `nh=256` hidden units\n",
    "* `sigmoid` activation\n",
    "* select the input and output shapes correctly\n",
    "* print the model summary"
   ]
  },
  {
   "cell_type": "code",
   "execution_count": 11,
   "metadata": {
    "id": "Uoj90CKlY6bS"
   },
   "outputs": [],
   "source": [
    "from tensorflow.keras.models import Model, Sequential\n",
    "from tensorflow.keras.layers import Dense, Activation\n",
    "import tensorflow.keras.backend as K\n"
   ]
  },
  {
   "cell_type": "code",
   "execution_count": 12,
   "metadata": {
    "id": "ITfqPC_VY6bS"
   },
   "outputs": [],
   "source": [
    "# TODO 5 clear session\n",
    "K.clear_session()"
   ]
  },
  {
   "cell_type": "code",
   "execution_count": 13,
   "metadata": {
    "id": "RlpeAKUJY6bT"
   },
   "outputs": [],
   "source": [
    "# TODO 6: construct the model\n",
    "nin = Xtr.shape[1]\n",
    "nout = np.max(ytr)+1\n",
    "nh = 256\n",
    "model = Sequential()\n",
    "model.add(Dense(nh, input_shape=(nin,), activation = 'sigmoid', name = 'hidden'))\n",
    "model.add(Dense(nout, activation = 'softmax', name = 'output'))"
   ]
  },
  {
   "cell_type": "code",
   "execution_count": 14,
   "metadata": {
    "colab": {
     "base_uri": "https://localhost:8080/"
    },
    "id": "1ndcSfPdY6bT",
    "outputId": "4d4c5548-0048-4abd-bbd0-f7f6af2785c5"
   },
   "outputs": [
    {
     "name": "stdout",
     "output_type": "stream",
     "text": [
      "Model: \"sequential\"\n",
      "_________________________________________________________________\n",
      " Layer (type)                Output Shape              Param #   \n",
      "=================================================================\n",
      " hidden (Dense)              (None, 256)               30976     \n",
      "                                                                 \n",
      " output (Dense)              (None, 10)                2570      \n",
      "                                                                 \n",
      "=================================================================\n",
      "Total params: 33,546\n",
      "Trainable params: 33,546\n",
      "Non-trainable params: 0\n",
      "_________________________________________________________________\n"
     ]
    }
   ],
   "source": [
    "# TODO 7:  Print the model summary\n",
    "model.summary()"
   ]
  },
  {
   "cell_type": "markdown",
   "metadata": {
    "id": "m_zGvawOY6bT"
   },
   "source": [
    "Create an optimizer and compile the model.  Select the appropriate loss function and metrics.  For the optimizer, use the Adam optimizer with a learning rate of 0.001"
   ]
  },
  {
   "cell_type": "code",
   "execution_count": 15,
   "metadata": {
    "colab": {
     "base_uri": "https://localhost:8080/"
    },
    "id": "qxoJewcaY6bT",
    "outputId": "e8915a10-fbf2-44af-d432-6f6947f1d096",
    "scrolled": true
   },
   "outputs": [
    {
     "name": "stderr",
     "output_type": "stream",
     "text": [
      "/usr/local/lib/python3.7/dist-packages/keras/optimizer_v2/adam.py:105: UserWarning: The `lr` argument is deprecated, use `learning_rate` instead.\n",
      "  super(Adam, self).__init__(name, **kwargs)\n"
     ]
    }
   ],
   "source": [
    "# TODO 8\n",
    "# opt = ...\n",
    "# model.compile(...)\n",
    "from tensorflow.keras import optimizers\n",
    "opt = optimizers.Adam(lr = 0.001)\n",
    "model.compile(optimizer = opt, loss='sparse_categorical_crossentropy', metrics = ['accuracy'])"
   ]
  },
  {
   "cell_type": "markdown",
   "metadata": {
    "id": "8ms_ly44Y6bT"
   },
   "source": [
    "Fit the model for 10 epochs using the scaled data for both the training and validation.  Use the `validation_data` option to pass the test data.  Also, pass the callback class create above.  Use a batch size of 100.  Your final accuracy should be >99%."
   ]
  },
  {
   "cell_type": "code",
   "execution_count": 16,
   "metadata": {
    "colab": {
     "base_uri": "https://localhost:8080/"
    },
    "id": "HEAVkIHoY6bT",
    "outputId": "f00cb533-37c6-4e3d-f570-8ad51d997b9a",
    "scrolled": true
   },
   "outputs": [
    {
     "name": "stdout",
     "output_type": "stream",
     "text": [
      "Epoch 1/10\n",
      "663/663 [==============================] - 5s 6ms/step - loss: 0.3671 - accuracy: 0.8997 - val_loss: 0.1835 - val_accuracy: 0.9522\n",
      "Epoch 2/10\n",
      "663/663 [==============================] - 2s 3ms/step - loss: 0.1044 - accuracy: 0.9751 - val_loss: 0.0899 - val_accuracy: 0.9775\n",
      "Epoch 3/10\n",
      "663/663 [==============================] - 2s 3ms/step - loss: 0.0616 - accuracy: 0.9851 - val_loss: 0.0727 - val_accuracy: 0.9780\n",
      "Epoch 4/10\n",
      "663/663 [==============================] - 2s 3ms/step - loss: 0.0431 - accuracy: 0.9893 - val_loss: 0.0560 - val_accuracy: 0.9845\n",
      "Epoch 5/10\n",
      "663/663 [==============================] - 2s 3ms/step - loss: 0.0328 - accuracy: 0.9917 - val_loss: 0.0376 - val_accuracy: 0.9899\n",
      "Epoch 6/10\n",
      "663/663 [==============================] - 2s 3ms/step - loss: 0.0263 - accuracy: 0.9930 - val_loss: 0.0363 - val_accuracy: 0.9915\n",
      "Epoch 7/10\n",
      "663/663 [==============================] - 2s 3ms/step - loss: 0.0214 - accuracy: 0.9941 - val_loss: 0.0320 - val_accuracy: 0.9911\n",
      "Epoch 8/10\n",
      "663/663 [==============================] - 2s 3ms/step - loss: 0.0176 - accuracy: 0.9955 - val_loss: 0.0271 - val_accuracy: 0.9919\n",
      "Epoch 9/10\n",
      "663/663 [==============================] - 2s 3ms/step - loss: 0.0152 - accuracy: 0.9961 - val_loss: 0.0254 - val_accuracy: 0.9921\n",
      "Epoch 10/10\n",
      "663/663 [==============================] - 2s 3ms/step - loss: 0.0130 - accuracy: 0.9964 - val_loss: 0.0237 - val_accuracy: 0.9921\n"
     ]
    }
   ],
   "source": [
    "# TODO 9\n",
    "batch_size = 100\n",
    "hist = model.fit(Xtr_scale, ytr, epochs = 10, batch_size = batch_size, validation_data = (Xts_scale, yts))"
   ]
  },
  {
   "cell_type": "markdown",
   "metadata": {
    "id": "M6hM05bQY6bU"
   },
   "source": [
    "Plot the validation accuracy saved in `hist.history` dictionary. This gives one accuracy value per epoch.  You should see that the validation accuracy saturates at a little higher than 99%.  After that it \"bounces around\" due to the noise in the stochastic gradient descent."
   ]
  },
  {
   "cell_type": "code",
   "execution_count": 17,
   "metadata": {
    "colab": {
     "base_uri": "https://localhost:8080/",
     "height": 297
    },
    "id": "eWpln6cwY6bU",
    "outputId": "9cd98314-e9be-4dce-9a34-3d834e0ae58b"
   },
   "outputs": [
    {
     "data": {
      "text/plain": [
       "Text(0, 0.5, 'Test accuracy')"
      ]
     },
     "execution_count": 17,
     "metadata": {},
     "output_type": "execute_result"
    },
    {
     "data": {
      "image/png": "[encoded data removed]",
      "text/plain": [
       "<Figure size 432x288 with 1 Axes>"
      ]
     },
     "metadata": {
      "needs_background": "light"
     },
     "output_type": "display_data"
    }
   ],
   "source": [
    "# TODO 10\n",
    "valacc = hist.history['val_accuracy']\n",
    "nepochs = len(valacc)\n",
    "plt.plot(np.arange(1,nepochs+1), valacc, 'o-', linewidth = 2)\n",
    "plt.grid()\n",
    "plt.xlabel('Epoch')\n",
    "plt.ylabel('Test accuracy')"
   ]
  },
  {
   "cell_type": "markdown",
   "metadata": {
    "id": "EVvKKstQY6bU"
   },
   "source": [
    "Plot the loss values saved in the `hist.history` dictionary.  You should see that the loss is steadily decreasing.  Use the `semilogy` plot."
   ]
  },
  {
   "cell_type": "code",
   "execution_count": 18,
   "metadata": {
    "colab": {
     "base_uri": "https://localhost:8080/",
     "height": 297
    },
    "id": "dW19NRBEY6bU",
    "outputId": "1ff6a492-1dcf-40f4-8527-d376917d3499"
   },
   "outputs": [
    {
     "data": {
      "image/png": "[encoded data removed]",
      "text/plain": [
       "<Figure size 432x288 with 1 Axes>"
      ]
     },
     "metadata": {
      "needs_background": "light"
     },
     "output_type": "display_data"
    }
   ],
   "source": [
    "# TODO 11\n",
    "loss = hist.history['loss']\n",
    "plt.semilogy(np.arange(1,nepochs+1), loss, 'o-')\n",
    "plt.xlabel('Epochs')\n",
    "plt.ylabel('Loss')\n",
    "plt.grid()\n",
    "plt.tight_layout()"
   ]
  },
  {
   "cell_type": "markdown",
   "metadata": {
    "id": "JeAnVh4dY6bU"
   },
   "source": [
    "## Optimizing the Learning Rate\n",
    "\n",
    "One challenge in training neural networks is the selection of the learning rate.  Rerun the above code, trying four learning rates as shown in the vector `rates`.  For each learning rate:\n",
    "* clear the session\n",
    "* construct the network\n",
    "* select the optimizer.  Use the Adam optimizer with the appropriate learrning rate.\n",
    "* train the model for 20 epochs\n",
    "* save the accuracy and losses"
   ]
  },
  {
   "cell_type": "code",
   "execution_count": 19,
   "metadata": {
    "colab": {
     "base_uri": "https://localhost:8080/"
    },
    "id": "KsX6kM-JY6bU",
    "outputId": "ae96c322-f75f-4adc-a145-1011a29c2f06"
   },
   "outputs": [
    {
     "name": "stdout",
     "output_type": "stream",
     "text": [
      "Epoch 1/20\n"
     ]
    },
    {
     "name": "stderr",
     "output_type": "stream",
     "text": [
      "/usr/local/lib/python3.7/dist-packages/keras/optimizer_v2/adam.py:105: UserWarning: The `lr` argument is deprecated, use `learning_rate` instead.\n",
      "  super(Adam, self).__init__(name, **kwargs)\n"
     ]
    },
    {
     "name": "stdout",
     "output_type": "stream",
     "text": [
      "663/663 [==============================] - 3s 4ms/step - loss: 0.1094 - accuracy: 0.9661 - val_loss: 0.0477 - val_accuracy: 0.9850\n",
      "Epoch 2/20\n",
      "663/663 [==============================] - 2s 3ms/step - loss: 0.0287 - accuracy: 0.9908 - val_loss: 0.0291 - val_accuracy: 0.9899\n",
      "Epoch 3/20\n",
      "663/663 [==============================] - 2s 3ms/step - loss: 0.0227 - accuracy: 0.9927 - val_loss: 0.0324 - val_accuracy: 0.9888\n",
      "Epoch 4/20\n",
      "663/663 [==============================] - 2s 3ms/step - loss: 0.0201 - accuracy: 0.9934 - val_loss: 0.0280 - val_accuracy: 0.9900\n",
      "Epoch 5/20\n",
      "663/663 [==============================] - 2s 3ms/step - loss: 0.0157 - accuracy: 0.9949 - val_loss: 0.0345 - val_accuracy: 0.9895\n",
      "Epoch 6/20\n",
      "663/663 [==============================] - 2s 3ms/step - loss: 0.0161 - accuracy: 0.9949 - val_loss: 0.0303 - val_accuracy: 0.9901\n",
      "Epoch 7/20\n",
      "663/663 [==============================] - 2s 3ms/step - loss: 0.0126 - accuracy: 0.9958 - val_loss: 0.0445 - val_accuracy: 0.9891\n",
      "Epoch 8/20\n",
      "663/663 [==============================] - 2s 3ms/step - loss: 0.0123 - accuracy: 0.9963 - val_loss: 0.0388 - val_accuracy: 0.9879\n",
      "Epoch 9/20\n",
      "663/663 [==============================] - 2s 3ms/step - loss: 0.0133 - accuracy: 0.9960 - val_loss: 0.0426 - val_accuracy: 0.9898\n",
      "Epoch 10/20\n",
      "663/663 [==============================] - 2s 3ms/step - loss: 0.0077 - accuracy: 0.9977 - val_loss: 0.0732 - val_accuracy: 0.9854\n",
      "Epoch 11/20\n",
      "663/663 [==============================] - 2s 4ms/step - loss: 0.0137 - accuracy: 0.9962 - val_loss: 0.0373 - val_accuracy: 0.9919\n",
      "Epoch 12/20\n",
      "663/663 [==============================] - 2s 3ms/step - loss: 0.0100 - accuracy: 0.9969 - val_loss: 0.0304 - val_accuracy: 0.9905\n",
      "Epoch 13/20\n",
      "663/663 [==============================] - 2s 4ms/step - loss: 0.0098 - accuracy: 0.9968 - val_loss: 0.0270 - val_accuracy: 0.9922\n",
      "Epoch 14/20\n",
      "663/663 [==============================] - 2s 3ms/step - loss: 0.0109 - accuracy: 0.9969 - val_loss: 0.0295 - val_accuracy: 0.9911\n",
      "Epoch 15/20\n",
      "663/663 [==============================] - 2s 3ms/step - loss: 0.0077 - accuracy: 0.9977 - val_loss: 0.0844 - val_accuracy: 0.9837\n",
      "Epoch 16/20\n",
      "663/663 [==============================] - 2s 3ms/step - loss: 0.0074 - accuracy: 0.9978 - val_loss: 0.0362 - val_accuracy: 0.9904\n",
      "Epoch 17/20\n",
      "663/663 [==============================] - 2s 3ms/step - loss: 0.0106 - accuracy: 0.9969 - val_loss: 0.0627 - val_accuracy: 0.9874\n",
      "Epoch 18/20\n",
      "663/663 [==============================] - 2s 3ms/step - loss: 0.0112 - accuracy: 0.9969 - val_loss: 0.0761 - val_accuracy: 0.9834\n",
      "Epoch 19/20\n",
      "663/663 [==============================] - 2s 3ms/step - loss: 0.0112 - accuracy: 0.9971 - val_loss: 0.0720 - val_accuracy: 0.9858\n",
      "Epoch 20/20\n",
      "663/663 [==============================] - 2s 3ms/step - loss: 0.0061 - accuracy: 0.9984 - val_loss: 0.0892 - val_accuracy: 0.9840\n",
      "lr=  1.0000e-02 test accuracy=0.983964\n",
      "Epoch 1/20\n",
      "663/663 [==============================] - 3s 3ms/step - loss: 0.3624 - accuracy: 0.9007 - val_loss: 0.2119 - val_accuracy: 0.9302\n",
      "Epoch 2/20\n",
      "663/663 [==============================] - 2s 3ms/step - loss: 0.1010 - accuracy: 0.9755 - val_loss: 0.0933 - val_accuracy: 0.9742\n",
      "Epoch 3/20\n",
      "663/663 [==============================] - 2s 3ms/step - loss: 0.0590 - accuracy: 0.9858 - val_loss: 0.0584 - val_accuracy: 0.9872\n",
      "Epoch 4/20\n",
      "663/663 [==============================] - 2s 3ms/step - loss: 0.0418 - accuracy: 0.9894 - val_loss: 0.0565 - val_accuracy: 0.9851\n",
      "Epoch 5/20\n",
      "663/663 [==============================] - 2s 3ms/step - loss: 0.0318 - accuracy: 0.9921 - val_loss: 0.0405 - val_accuracy: 0.9899\n",
      "Epoch 6/20\n",
      "663/663 [==============================] - 2s 3ms/step - loss: 0.0253 - accuracy: 0.9934 - val_loss: 0.0321 - val_accuracy: 0.9911\n",
      "Epoch 7/20\n",
      "663/663 [==============================] - 2s 3ms/step - loss: 0.0205 - accuracy: 0.9951 - val_loss: 0.0349 - val_accuracy: 0.9899\n",
      "Epoch 8/20\n",
      "663/663 [==============================] - 2s 3ms/step - loss: 0.0173 - accuracy: 0.9956 - val_loss: 0.0319 - val_accuracy: 0.9903\n",
      "Epoch 9/20\n",
      "663/663 [==============================] - 2s 3ms/step - loss: 0.0150 - accuracy: 0.9961 - val_loss: 0.0296 - val_accuracy: 0.9905\n",
      "Epoch 10/20\n",
      "663/663 [==============================] - 3s 4ms/step - loss: 0.0127 - accuracy: 0.9969 - val_loss: 0.0253 - val_accuracy: 0.9924\n",
      "Epoch 11/20\n",
      "663/663 [==============================] - 4s 5ms/step - loss: 0.0115 - accuracy: 0.9970 - val_loss: 0.0231 - val_accuracy: 0.9921\n",
      "Epoch 12/20\n",
      "663/663 [==============================] - 2s 4ms/step - loss: 0.0102 - accuracy: 0.9974 - val_loss: 0.0230 - val_accuracy: 0.9922\n",
      "Epoch 13/20\n",
      "663/663 [==============================] - 2s 3ms/step - loss: 0.0089 - accuracy: 0.9976 - val_loss: 0.0206 - val_accuracy: 0.9934\n",
      "Epoch 14/20\n",
      "663/663 [==============================] - 2s 3ms/step - loss: 0.0079 - accuracy: 0.9980 - val_loss: 0.0289 - val_accuracy: 0.9889\n",
      "Epoch 15/20\n",
      "663/663 [==============================] - 2s 3ms/step - loss: 0.0075 - accuracy: 0.9981 - val_loss: 0.0259 - val_accuracy: 0.9900\n",
      "Epoch 16/20\n",
      "663/663 [==============================] - 2s 4ms/step - loss: 0.0069 - accuracy: 0.9981 - val_loss: 0.0240 - val_accuracy: 0.9918\n",
      "Epoch 17/20\n",
      "663/663 [==============================] - 2s 4ms/step - loss: 0.0063 - accuracy: 0.9983 - val_loss: 0.0209 - val_accuracy: 0.9924\n",
      "Epoch 18/20\n",
      "663/663 [==============================] - 2s 4ms/step - loss: 0.0060 - accuracy: 0.9986 - val_loss: 0.0212 - val_accuracy: 0.9927\n",
      "Epoch 19/20\n",
      "663/663 [==============================] - 2s 4ms/step - loss: 0.0054 - accuracy: 0.9985 - val_loss: 0.0256 - val_accuracy: 0.9916\n",
      "Epoch 20/20\n",
      "663/663 [==============================] - 2s 4ms/step - loss: 0.0053 - accuracy: 0.9986 - val_loss: 0.0218 - val_accuracy: 0.9923\n",
      "lr=  1.0000e-03 test accuracy=0.992284\n",
      "Epoch 1/20\n",
      "663/663 [==============================] - 3s 4ms/step - loss: 1.1746 - accuracy: 0.6405 - val_loss: 0.8720 - val_accuracy: 0.6598\n",
      "Epoch 2/20\n",
      "663/663 [==============================] - 2s 3ms/step - loss: 0.5711 - accuracy: 0.8394 - val_loss: 0.5939 - val_accuracy: 0.8159\n",
      "Epoch 3/20\n",
      "663/663 [==============================] - 2s 3ms/step - loss: 0.3951 - accuracy: 0.9075 - val_loss: 0.4512 - val_accuracy: 0.8739\n",
      "Epoch 4/20\n",
      "663/663 [==============================] - 2s 4ms/step - loss: 0.3045 - accuracy: 0.9313 - val_loss: 0.3656 - val_accuracy: 0.8999\n",
      "Epoch 5/20\n",
      "663/663 [==============================] - 2s 3ms/step - loss: 0.2469 - accuracy: 0.9445 - val_loss: 0.3065 - val_accuracy: 0.9138\n",
      "Epoch 6/20\n",
      "663/663 [==============================] - 2s 3ms/step - loss: 0.2057 - accuracy: 0.9531 - val_loss: 0.2572 - val_accuracy: 0.9268\n",
      "Epoch 7/20\n",
      "663/663 [==============================] - 2s 4ms/step - loss: 0.1743 - accuracy: 0.9604 - val_loss: 0.2186 - val_accuracy: 0.9378\n",
      "Epoch 8/20\n",
      "663/663 [==============================] - 2s 3ms/step - loss: 0.1496 - accuracy: 0.9650 - val_loss: 0.1857 - val_accuracy: 0.9475\n",
      "Epoch 9/20\n",
      "663/663 [==============================] - 2s 3ms/step - loss: 0.1298 - accuracy: 0.9693 - val_loss: 0.1595 - val_accuracy: 0.9545\n",
      "Epoch 10/20\n",
      "663/663 [==============================] - 2s 4ms/step - loss: 0.1138 - accuracy: 0.9728 - val_loss: 0.1444 - val_accuracy: 0.9581\n",
      "Epoch 11/20\n",
      "663/663 [==============================] - 2s 3ms/step - loss: 0.1008 - accuracy: 0.9763 - val_loss: 0.1251 - val_accuracy: 0.9641\n",
      "Epoch 12/20\n",
      "663/663 [==============================] - 2s 3ms/step - loss: 0.0901 - accuracy: 0.9789 - val_loss: 0.1087 - val_accuracy: 0.9720\n",
      "Epoch 13/20\n",
      "663/663 [==============================] - 2s 3ms/step - loss: 0.0813 - accuracy: 0.9812 - val_loss: 0.1024 - val_accuracy: 0.9728\n",
      "Epoch 14/20\n",
      "663/663 [==============================] - 2s 3ms/step - loss: 0.0739 - accuracy: 0.9827 - val_loss: 0.0914 - val_accuracy: 0.9759\n",
      "Epoch 15/20\n",
      "663/663 [==============================] - 2s 3ms/step - loss: 0.0676 - accuracy: 0.9845 - val_loss: 0.0860 - val_accuracy: 0.9773\n",
      "Epoch 16/20\n",
      "663/663 [==============================] - 2s 3ms/step - loss: 0.0623 - accuracy: 0.9854 - val_loss: 0.0795 - val_accuracy: 0.9774\n",
      "Epoch 17/20\n",
      "663/663 [==============================] - 2s 3ms/step - loss: 0.0576 - accuracy: 0.9864 - val_loss: 0.0714 - val_accuracy: 0.9833\n",
      "Epoch 18/20\n",
      "663/663 [==============================] - 2s 3ms/step - loss: 0.0537 - accuracy: 0.9871 - val_loss: 0.0667 - val_accuracy: 0.9842\n",
      "Epoch 19/20\n",
      "663/663 [==============================] - 2s 3ms/step - loss: 0.0503 - accuracy: 0.9880 - val_loss: 0.0621 - val_accuracy: 0.9856\n",
      "Epoch 20/20\n",
      "663/663 [==============================] - 2s 3ms/step - loss: 0.0472 - accuracy: 0.9886 - val_loss: 0.0580 - val_accuracy: 0.9860\n",
      "lr=  1.0000e-04 test accuracy=0.986044\n"
     ]
    }
   ],
   "source": [
    "rates = [0.01,0.001,0.0001]\n",
    "batch_size = 100\n",
    "loss_hist = []\n",
    "\n",
    "# TODO 12\n",
    "# for lr in rate:\n",
    "#    ...\n",
    "\n",
    "for lr in rates:\n",
    "  K.clear_session()\n",
    "  model = Sequential()\n",
    "  model.add(Dense(nh, input_shape = (nin,), activation = 'sigmoid', name = 'hidden'))\n",
    "  model.add(Dense(nout, activation='softmax', name='output'))\n",
    "  opt = optimizers.Adam(lr = lr)\n",
    "  model.compile(optimizer = opt, loss = 'sparse_categorical_crossentropy', metrics = ['accuracy'])\n",
    "  hist = model.fit(Xtr_scale, ytr, epochs=20, batch_size=batch_size, validation_data=(Xts_scale,yts))\n",
    "  loss_hist.append(hist.history['loss'])\n",
    "  val_acc = hist.history['val_accuracy'][-1]\n",
    "  print(\"lr=%12.4e test accuracy=%f\" % (lr, val_acc))"
   ]
  },
  {
   "cell_type": "markdown",
   "metadata": {
    "id": "ky07rrpjY6bU"
   },
   "source": [
    "Plot the loss funciton vs. the epoch number for all three learning rates on one graph.  You should see that the lower learning rates are more stable, but converge slower."
   ]
  },
  {
   "cell_type": "code",
   "execution_count": 20,
   "metadata": {
    "colab": {
     "base_uri": "https://localhost:8080/",
     "height": 549
    },
    "id": "yVdzkG23Y6bU",
    "outputId": "87ecc6a2-4328-4e76-9329-e1afd2e071ac"
   },
   "outputs": [
    {
     "name": "stderr",
     "output_type": "stream",
     "text": [
      "/usr/local/lib/python3.7/dist-packages/ipykernel_launcher.py:13: MatplotlibDeprecationWarning: Unrecognized location 'Lower left'. Falling back on 'best'; valid locations are\n",
      "\tbest\n",
      "\tupper right\n",
      "\tupper left\n",
      "\tlower left\n",
      "\tlower right\n",
      "\tright\n",
      "\tcenter left\n",
      "\tcenter right\n",
      "\tlower center\n",
      "\tupper center\n",
      "\tcenter\n",
      "This will raise an exception in 3.3.\n",
      "  del sys.path[0]\n"
     ]
    },
    {
     "data": {
      "image/png": "[encoded data removed]",
      "text/plain": [
       "<Figure size 432x288 with 1 Axes>"
      ]
     },
     "metadata": {
      "needs_background": "light"
     },
     "output_type": "display_data"
    }
   ],
   "source": [
    "# TODO 13\n",
    "ntest = len(loss_hist)\n",
    "ntr = Xtr.shape[0]\n",
    "batch_size = 100\n",
    "for i, loss in enumerate(loss_hist):\n",
    "  nepochs = len(loss)\n",
    "  epochs = np.arange(1, nepochs+1)\n",
    "  plt.semilogy(epochs, loss, 'o-')\n",
    "  rate_str = ['{0:5.4f}'.format(lr) for lr in rates]\n",
    "\n",
    "plt.xlabel('Epochs')\n",
    "plt.ylabel('Loss')\n",
    "plt.legend(rate_str, loc = 'Lower left')\n",
    "plt.grid()"
   ]
  },
  {
   "cell_type": "code",
   "execution_count": 20,
   "metadata": {
    "id": "Cv0-qW72Y6bV"
   },
   "outputs": [],
   "source": []
  },
  {
   "cell_type": "code",
   "execution_count": 20,
   "metadata": {
    "id": "0cseUMhOY6bV"
   },
   "outputs": [],
   "source": []
  }
 ],
 "metadata": {
  "anaconda-cloud": {},
  "colab": {
   "name": "lab_music_partial.ipynb",
   "provenance": []
  },
  "kernelspec": {
   "display_name": "Python 3 (ipykernel)",
   "language": "python",
   "name": "python3"
  },
  "language_info": {
   "codemirror_mode": {
    "name": "ipython",
    "version": 3
   },
   "file_extension": ".py",
   "mimetype": "text/x-python",
   "name": "python",
   "nbconvert_exporter": "python",
   "pygments_lexer": "ipython3",
   "version": "3.9.7"
  }
 },
 "nbformat": 4,
 "nbformat_minor": 1
}
